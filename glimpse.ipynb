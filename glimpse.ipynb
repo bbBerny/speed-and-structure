{
 "cells": [
  {
   "cell_type": "markdown",
   "id": "b9cbf2cd",
   "metadata": {},
   "source": [
    "# Taking a quick look on the data\n",
    "\n",
    "The objective is to quickly gather a series of information on the data we are looking at"
   ]
  },
  {
   "cell_type": "code",
   "execution_count": 2,
   "id": "a2abbfb8",
   "metadata": {},
   "outputs": [],
   "source": [
    "import os\n",
    "import numpy as np\n",
    "from glob import glob\n",
    "import matplotlib.pyplot as plt\n",
    "from anytree import Node, RenderTree\n",
    "from typing import Dict, List"
   ]
  },
  {
   "cell_type": "markdown",
   "id": "c4f3acb0",
   "metadata": {},
   "source": [
    "What are the shapes of the data we are working? \n",
    "- We are assuming (30000, 31) for train data and (300, 1259) for target data\n",
    "- Since test dataset is not labeled we will most likely use a test set and dev set taken from the training set. Selected data should be taken with a specific sampling technique that we will discuss later"
   ]
  },
  {
   "cell_type": "code",
   "execution_count": 3,
   "id": "bc395e16",
   "metadata": {},
   "outputs": [
    {
     "name": "stdout",
     "output_type": "stream",
     "text": [
      "We are working with 2000 training examples\n",
      "We are working with 150 test examples\n"
     ]
    }
   ],
   "source": [
    "training_dataset = './data/train_data/*'\n",
    "test_dataset = './data/test_data/*'\n",
    "\n",
    "\n",
    "# Access training ids\n",
    "training_paths_raw = glob(training_dataset)\n",
    "training_ids_raw = [path.split('/')[-1] for path in training_paths_raw]\n",
    "training_ids_raw = [path.split('\\\\')[-1] for path in training_ids_raw]\n",
    "\n",
    "# Access test ids\n",
    "test_paths = glob(test_dataset)\n",
    "test_ids = [path.split('/')[-1] for path in test_paths]\n",
    "test_ids = [path.split('\\\\')[-1] for path in test_ids]\n",
    "\n",
    "print(f'We are working with {len(training_ids_raw)} training examples')\n",
    "print(f'We are working with {len(test_ids)} test examples')\n",
    "\n"
   ]
  },
  {
   "cell_type": "markdown",
   "id": "b3eecfdc",
   "metadata": {},
   "source": [
    "Let us take a look on what is inside each id"
   ]
  },
  {
   "cell_type": "code",
   "execution_count": 4,
   "id": "fa615428",
   "metadata": {},
   "outputs": [
    {
     "data": {
      "text/plain": [
       "['receiver_data_src_1.npy',\n",
       " 'receiver_data_src_150.npy',\n",
       " 'receiver_data_src_225.npy',\n",
       " 'receiver_data_src_300.npy',\n",
       " 'receiver_data_src_75.npy',\n",
       " 'vp_model.npy']"
      ]
     },
     "execution_count": 4,
     "metadata": {},
     "output_type": "execute_result"
    }
   ],
   "source": [
    "training_sample = os.listdir(training_paths_raw[0])\n",
    "training_sample"
   ]
  },
  {
   "cell_type": "markdown",
   "id": "bef8519c",
   "metadata": {},
   "source": [
    "--- \n",
    "Let us confirm all data has the appropiate shape"
   ]
  },
  {
   "cell_type": "code",
   "execution_count": 6,
   "id": "1b9aa7e7",
   "metadata": {},
   "outputs": [],
   "source": [
    "for i in range(len(training_paths_raw)):\n",
    "    assert np.load(os.path.join(training_paths_raw[i], f'receiver_data_src_1.npy')).shape == (10001, 31)\n",
    "    assert np.load(os.path.join(training_paths_raw[i], f'receiver_data_src_75.npy')).shape == (10001, 31)\n",
    "    assert np.load(os.path.join(training_paths_raw[i], f'receiver_data_src_150.npy')).shape == (10001, 31)\n",
    "    assert np.load(os.path.join(training_paths_raw[i], f'receiver_data_src_225.npy')).shape == (10001, 31)\n",
    "    assert np.load(os.path.join(training_paths_raw[i], f'receiver_data_src_300.npy')).shape == (10001, 31)\n",
    "    assert np.load(os.path.join(training_paths_raw[i], f'vp_model.npy')).shape == (300, 1259)"
   ]
  },
  {
   "cell_type": "markdown",
   "id": "e599891a",
   "metadata": {},
   "source": [
    "---\n",
    "Let us find out the data type of every file\n"
   ]
  },
  {
   "cell_type": "code",
   "execution_count": 7,
   "id": "88d62b16",
   "metadata": {},
   "outputs": [
    {
     "name": "stdout",
     "output_type": "stream",
     "text": [
      "The dtype of a training instance is: float32\n",
      "The dtype of a training label is: float64\n"
     ]
    }
   ],
   "source": [
    "training_sample = np.load(os.path.join(training_paths_raw[0], f'receiver_data_src_1.npy'))\n",
    "target_sample = np.load(os.path.join(training_paths_raw[0], f'vp_model.npy'))\n",
    "print(f'The dtype of a training instance is: {training_sample.dtype}')\n",
    "print(f'The dtype of a training label is: {target_sample.dtype}')\n",
    "\n"
   ]
  },
  {
   "cell_type": "markdown",
   "id": "5ac33171",
   "metadata": {},
   "source": [
    "Training instances are single float precision, while labels are expected to be double float precision"
   ]
  },
  {
   "cell_type": "markdown",
   "id": "8a1fd6b9",
   "metadata": {},
   "source": [
    "---\n",
    "Before comencing exploratory data analysis we must decide strategy on train/test split <br>\n",
    "While ThinkOnward provides test and train data I will try to engage in a different strategy that will allow us a much easier understanding of the model performance \n",
    "\n",
    "---"
   ]
  },
  {
   "cell_type": "markdown",
   "id": "acf04762",
   "metadata": {},
   "source": [
    "## Train Test Split\n",
    "\n",
    "As said before we are working with 2000 training examples and 150 test examples. With this in mind we will follow the next strategy:\n",
    "\n",
    "- Choosing an split ratio on the training set\n",
    "- Picking a random seed so our results can be reproducible\n",
    "- Shuffle our training indices\n",
    "- Partition into train/validation set\n",
    "- Sanity check\n",
    "\n",
    "What are the possible problems with this approach? <br>\n",
    "- If the dataset gets updated, then the solution will be broken since we will have a new mix of train/validation instances.\n",
    "- Prone to sampling bias if the chosen validation examples are not representative of the whole training examples.\n",
    "\n"
   ]
  },
  {
   "cell_type": "code",
   "execution_count": 8,
   "id": "47973b00",
   "metadata": {},
   "outputs": [],
   "source": [
    "# Split ratio: \n",
    "# 80% -> Training set\n",
    "# 20% -> Validation set\n",
    "import numpy as np\n",
    "\n",
    "def shuffle_and_split_data(data, val_ratio):\n",
    "    \"\"\"\n",
    "    Shuffles a list of folder paths and splits it into training and validation subsets.\n",
    "\n",
    "    Parameters\n",
    "    ----------\n",
    "    data : list of str\n",
    "        List of folder paths, where each folder contains data samples for training or validation.\n",
    "    \n",
    "    val_ratio : float\n",
    "        The proportion of the data to allocate to the validation set. Must be between 0 and 1.\n",
    "\n",
    "    Returns\n",
    "    -------\n",
    "    train_data : list of str\n",
    "        Shuffled list of folder paths to be used for training.\n",
    "\n",
    "    val_data : list of str\n",
    "        Shuffled list of folder paths to be used for validation.\n",
    "\n",
    "    Notes\n",
    "    -----\n",
    "    A fixed random seed (18) is used for reproducibility.\n",
    "    \"\"\"\n",
    "    np.random.seed(18)\n",
    "    shuffled_indices = np.random.permutation(len(data))\n",
    "    val_set_size = int(len(data) * val_ratio)\n",
    "    val_indices = shuffled_indices[:val_set_size]\n",
    "    train_indices = shuffled_indices[val_set_size:]\n",
    "    return  [data[i] for i in train_indices], [data[i] for i in val_indices]\n",
    "\n",
    "training_ids, validation_ids = shuffle_and_split_data(training_ids_raw, 0.2)\n"
   ]
  },
  {
   "cell_type": "markdown",
   "id": "2c7c307a",
   "metadata": {},
   "source": [
    "---\n",
    "Now we need to run a sanity check to see if our approach did not sample bias the train set"
   ]
  },
  {
   "cell_type": "code",
   "execution_count": 16,
   "id": "311a7b88",
   "metadata": {},
   "outputs": [
    {
     "data": {
      "image/png": "[encoded data removed]",
      "text/plain": [
       "<Figure size 640x480 with 1 Axes>"
      ]
     },
     "metadata": {},
     "output_type": "display_data"
    },
    {
     "data": {
      "image/png": "[encoded data removed]",
      "text/plain": [
       "<Figure size 640x480 with 1 Axes>"
      ]
     },
     "metadata": {},
     "output_type": "display_data"
    }
   ],
   "source": [
    "# First we will compute a histogram of our maximum values within each vp_model in the training set vs the validation set\n",
    "#target_sample = np.load(os.path.join(training_paths_raw[0], f'vp_model.npy'))\n",
    "\n",
    "def compute_max_velocity(data):\n",
    "    values = [np.load(f'./data/train_data/{id}/vp_model.npy').max() for id in data]\n",
    "    return values\n",
    "\n",
    "def compute_min_velocity(data):\n",
    "    values = [np.load(f'./data/train_data/{id}/vp_model.npy').min() for id in data]\n",
    "    return values\n",
    "\n",
    "def compare_histograms(values: list, num_bins: int):\n",
    "    kwargs = dict(histtype = 'stepfilled', alpha = 0.3, density = True, bins = num_bins)\n",
    "    for val in values:\n",
    "        plt.hist(val, **kwargs);\n",
    "    plt.show()\n",
    "\n",
    "        \n",
    "\n",
    "max_values_train_set = compute_max_velocity(training_ids)\n",
    "max_values_val_set = compute_max_velocity(validation_ids)\n",
    "\n",
    "min_values_train_set = compute_min_velocity(training_ids)\n",
    "min_values_val_set = compute_min_velocity(validation_ids)\n",
    "\n",
    "compare_histograms(values = [max_values_train_set, max_values_val_set], num_bins=20)\n",
    "compare_histograms(values = [min_values_train_set, min_values_val_set], num_bins=20)\n",
    "\n"
   ]
  },
  {
   "cell_type": "markdown",
   "id": "6625a105",
   "metadata": {},
   "source": [
    "We can observe that the random split did not introduce any skewness to the data, and both histograms containing min and max values look similar. We can confidently move forward with this train/val split. <br>\n",
    "\n",
    "What can we improve?\n",
    "- Compare the mean and standard deviation and compare distributions\n",
    "- Approximate finite differences and compute a mean absolute gradient per split\n",
    "- For each shot calculate RMS amplitude and compare train/val histograms\n",
    "- **Peak amplitude, I Believe this is worth persuing**: Track max(|d|) per gather. If val has far higher peaks, it may represent stronger reflections (i.e. different geology).\n",
    "- Kolmogorov-Smirnov on mean vp"
   ]
  }
 ],
 "metadata": {
  "kernelspec": {
   "display_name": "base",
   "language": "python",
   "name": "python3"
  },
  "language_info": {
   "codemirror_mode": {
    "name": "ipython",
    "version": 3
   },
   "file_extension": ".py",
   "mimetype": "text/x-python",
   "name": "python",
   "nbconvert_exporter": "python",
   "pygments_lexer": "ipython3",
   "version": "3.12.4"
  }
 },
 "nbformat": 4,
 "nbformat_minor": 5
}
